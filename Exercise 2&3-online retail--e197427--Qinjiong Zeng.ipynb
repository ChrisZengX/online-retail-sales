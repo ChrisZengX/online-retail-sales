{
 "cells": [
  {
   "cell_type": "code",
   "execution_count": 1,
   "metadata": {},
   "outputs": [],
   "source": [
    "import pandas as pd\n",
    "import numpy as np\n",
    "from sklearn.preprocessing import scale, StandardScaler\n",
    "from sklearn.model_selection import train_test_split, cross_val_score"
   ]
  },
  {
   "cell_type": "code",
   "execution_count": 2,
   "metadata": {},
   "outputs": [
    {
     "ename": "NameError",
     "evalue": "name 'pd' is not defined",
     "output_type": "error",
     "traceback": [
      "\u001b[0;31m---------------------------------------------------------------------------\u001b[0m",
      "\u001b[0;31mNameError\u001b[0m                                 Traceback (most recent call last)",
      "\u001b[0;32m<ipython-input-2-6432b2863084>\u001b[0m in \u001b[0;36m<module>\u001b[0;34m\u001b[0m\n\u001b[0;32m----> 1\u001b[0;31m \u001b[0mcriteo\u001b[0m \u001b[0;34m=\u001b[0m \u001b[0mpd\u001b[0m\u001b[0;34m.\u001b[0m\u001b[0mread_csv\u001b[0m\u001b[0;34m(\u001b[0m\u001b[0;34m\"criteo_data.csv\"\u001b[0m\u001b[0;34m)\u001b[0m\u001b[0;34m\u001b[0m\u001b[0;34m\u001b[0m\u001b[0m\n\u001b[0m\u001b[1;32m      2\u001b[0m \u001b[0monsite\u001b[0m \u001b[0;34m=\u001b[0m \u001b[0mpd\u001b[0m\u001b[0;34m.\u001b[0m\u001b[0mread_csv\u001b[0m\u001b[0;34m(\u001b[0m\u001b[0;34m\"onsite_data.csv\"\u001b[0m\u001b[0;34m)\u001b[0m\u001b[0;34m\u001b[0m\u001b[0;34m\u001b[0m\u001b[0m\n\u001b[1;32m      3\u001b[0m \u001b[0mcata\u001b[0m\u001b[0;34m=\u001b[0m\u001b[0mpd\u001b[0m\u001b[0;34m.\u001b[0m\u001b[0mread_csv\u001b[0m\u001b[0;34m(\u001b[0m\u001b[0;34m\"catalog_data.csv\"\u001b[0m\u001b[0;34m)\u001b[0m\u001b[0;34m\u001b[0m\u001b[0;34m\u001b[0m\u001b[0m\n\u001b[1;32m      4\u001b[0m \u001b[0mcriteo\u001b[0m\u001b[0;34m.\u001b[0m\u001b[0mhead\u001b[0m\u001b[0;34m(\u001b[0m\u001b[0;36m10\u001b[0m\u001b[0;34m)\u001b[0m\u001b[0;34m\u001b[0m\u001b[0;34m\u001b[0m\u001b[0m\n",
      "\u001b[0;31mNameError\u001b[0m: name 'pd' is not defined"
     ]
    }
   ],
   "source": [
    "train = pd.read_csv(\"train.csv\")\n",
    "test = pd.read_csv(\"test1.csv\")\n",
    "train.head(10) "
   ]
  },
  {
   "cell_type": "code",
   "execution_count": 3,
   "metadata": {},
   "outputs": [
    {
     "data": {
      "text/plain": [
       "label\n",
       "-1    31371\n",
       " 1       57\n",
       "dtype: int64"
      ]
     },
     "execution_count": 3,
     "metadata": {},
     "output_type": "execute_result"
    }
   ],
   "source": [
    "train.groupby(\"label\").size() #check target size"
   ]
  },
  {
   "cell_type": "code",
   "execution_count": 4,
   "metadata": {},
   "outputs": [],
   "source": [
    "train.drop([\"id\",\"purchaseTime\",\"hour\"],axis=1,inplace=True)\n",
    "test.drop([\"id\",\"purchaseTime\",\"hour\"],axis=1,inplace=True)  #delete useless value"
   ]
  },
  {
   "cell_type": "code",
   "execution_count": 5,
   "metadata": {},
   "outputs": [],
   "source": [
    "X=train.drop(\"label\",axis=1)\n",
    "y=train[\"label\"]\n",
    "X_pred=test.drop(\"label\",axis=1)\n",
    "y_pred=test[\"label\"]"
   ]
  },
  {
   "cell_type": "markdown",
   "metadata": {},
   "source": [
    "# Feature Selection"
   ]
  },
  {
   "cell_type": "code",
   "execution_count": 6,
   "metadata": {},
   "outputs": [],
   "source": [
    "from sklearn.ensemble import RandomForestClassifier\n",
    "from sklearn import datasets\n",
    "# from sklearn.feature_selection import SelectFromModel\n",
    "feat_labels=X.columns.values.tolist()\n",
    "# Create a random forest classifier\n",
    "clf = RandomForestClassifier(n_estimators=1000, random_state=0, n_jobs=-1)"
   ]
  },
  {
   "cell_type": "code",
   "execution_count": 7,
   "metadata": {},
   "outputs": [
    {
     "name": "stdout",
     "output_type": "stream",
     "text": [
      "('visitTime', 0.08237191978725307)\n",
      "('C1', 0.04509466450531865)\n",
      "('C2', 0.019124518387993953)\n",
      "('C3', 0.03779532583119887)\n",
      "('C4', 0.010240116041685255)\n",
      "('C5', 0.006575345770739008)\n",
      "('C6', 0.045893151928789296)\n",
      "('C7', 0.030913165643319147)\n",
      "('C8', 0.02279993406204759)\n",
      "('N1', 0.02631505187129015)\n",
      "('C9', 0.028704179163977227)\n",
      "('N2', 0.009436053603444761)\n",
      "('N3', 0.03049084564175966)\n",
      "('N4', 0.02352358329712975)\n",
      "('N5', 0.00577515530294264)\n",
      "('N6', 0.09679732093141856)\n",
      "('N7', 0.005500438406235134)\n",
      "('N8', 0.04437183069543574)\n",
      "('N9', 0.19004320867380683)\n",
      "('N10', 0.13575320224415743)\n",
      "('C10', 0.0709870952318239)\n",
      "('C11', 0.012266906241492865)\n",
      "('C12', 0.01922698673674059)\n"
     ]
    }
   ],
   "source": [
    "# Train the classifier\n",
    "clf.fit(X,y)\n",
    "# Print the name and gini importance of each feature\n",
    "for feature in zip(feat_labels, clf.feature_importances_):\n",
    "    print(feature)"
   ]
  },
  {
   "cell_type": "code",
   "execution_count": 8,
   "metadata": {},
   "outputs": [
    {
     "data": {
      "text/html": [
       "<div>\n",
       "<style scoped>\n",
       "    .dataframe tbody tr th:only-of-type {\n",
       "        vertical-align: middle;\n",
       "    }\n",
       "\n",
       "    .dataframe tbody tr th {\n",
       "        vertical-align: top;\n",
       "    }\n",
       "\n",
       "    .dataframe thead th {\n",
       "        text-align: right;\n",
       "    }\n",
       "</style>\n",
       "<table border=\"1\" class=\"dataframe\">\n",
       "  <thead>\n",
       "    <tr style=\"text-align: right;\">\n",
       "      <th></th>\n",
       "      <th>visitTime</th>\n",
       "      <th>C1</th>\n",
       "      <th>C6</th>\n",
       "      <th>C10</th>\n",
       "      <th>N6</th>\n",
       "      <th>N8</th>\n",
       "      <th>N9</th>\n",
       "      <th>N10</th>\n",
       "    </tr>\n",
       "  </thead>\n",
       "  <tbody>\n",
       "    <tr>\n",
       "      <td>0</td>\n",
       "      <td>19274330</td>\n",
       "      <td>2569487005</td>\n",
       "      <td>3624739744</td>\n",
       "      <td>419316267</td>\n",
       "      <td>0</td>\n",
       "      <td>0</td>\n",
       "      <td>0</td>\n",
       "      <td>0</td>\n",
       "    </tr>\n",
       "    <tr>\n",
       "      <td>1</td>\n",
       "      <td>19274334</td>\n",
       "      <td>3191875643</td>\n",
       "      <td>179712055</td>\n",
       "      <td>1968545380</td>\n",
       "      <td>0</td>\n",
       "      <td>1</td>\n",
       "      <td>0</td>\n",
       "      <td>0</td>\n",
       "    </tr>\n",
       "    <tr>\n",
       "      <td>2</td>\n",
       "      <td>19274353</td>\n",
       "      <td>2634604934</td>\n",
       "      <td>1607619193</td>\n",
       "      <td>1405802835</td>\n",
       "      <td>0</td>\n",
       "      <td>0</td>\n",
       "      <td>0</td>\n",
       "      <td>0</td>\n",
       "    </tr>\n",
       "    <tr>\n",
       "      <td>3</td>\n",
       "      <td>19274358</td>\n",
       "      <td>2569487005</td>\n",
       "      <td>10212495</td>\n",
       "      <td>2299319102</td>\n",
       "      <td>0</td>\n",
       "      <td>0</td>\n",
       "      <td>0</td>\n",
       "      <td>0</td>\n",
       "    </tr>\n",
       "    <tr>\n",
       "      <td>4</td>\n",
       "      <td>19274367</td>\n",
       "      <td>2569487005</td>\n",
       "      <td>580883881</td>\n",
       "      <td>1306075469</td>\n",
       "      <td>0</td>\n",
       "      <td>0</td>\n",
       "      <td>0</td>\n",
       "      <td>0</td>\n",
       "    </tr>\n",
       "    <tr>\n",
       "      <td>...</td>\n",
       "      <td>...</td>\n",
       "      <td>...</td>\n",
       "      <td>...</td>\n",
       "      <td>...</td>\n",
       "      <td>...</td>\n",
       "      <td>...</td>\n",
       "      <td>...</td>\n",
       "      <td>...</td>\n",
       "    </tr>\n",
       "    <tr>\n",
       "      <td>31423</td>\n",
       "      <td>19360259</td>\n",
       "      <td>2569487005</td>\n",
       "      <td>3624739744</td>\n",
       "      <td>773194559</td>\n",
       "      <td>0</td>\n",
       "      <td>0</td>\n",
       "      <td>0</td>\n",
       "      <td>0</td>\n",
       "    </tr>\n",
       "    <tr>\n",
       "      <td>31424</td>\n",
       "      <td>19360260</td>\n",
       "      <td>2569487005</td>\n",
       "      <td>3624739744</td>\n",
       "      <td>4038791635</td>\n",
       "      <td>0</td>\n",
       "      <td>0</td>\n",
       "      <td>0</td>\n",
       "      <td>0</td>\n",
       "    </tr>\n",
       "    <tr>\n",
       "      <td>31425</td>\n",
       "      <td>19360392</td>\n",
       "      <td>497926344</td>\n",
       "      <td>2304197778</td>\n",
       "      <td>1169636883</td>\n",
       "      <td>0</td>\n",
       "      <td>0</td>\n",
       "      <td>0</td>\n",
       "      <td>0</td>\n",
       "    </tr>\n",
       "    <tr>\n",
       "      <td>31426</td>\n",
       "      <td>19360528</td>\n",
       "      <td>2569487005</td>\n",
       "      <td>3624739744</td>\n",
       "      <td>357042422</td>\n",
       "      <td>0</td>\n",
       "      <td>0</td>\n",
       "      <td>0</td>\n",
       "      <td>0</td>\n",
       "    </tr>\n",
       "    <tr>\n",
       "      <td>31427</td>\n",
       "      <td>19360545</td>\n",
       "      <td>2569487005</td>\n",
       "      <td>3624739744</td>\n",
       "      <td>2237502949</td>\n",
       "      <td>0</td>\n",
       "      <td>0</td>\n",
       "      <td>0</td>\n",
       "      <td>0</td>\n",
       "    </tr>\n",
       "  </tbody>\n",
       "</table>\n",
       "<p>31428 rows × 8 columns</p>\n",
       "</div>"
      ],
      "text/plain": [
       "       visitTime          C1          C6         C10  N6  N8  N9  N10\n",
       "0       19274330  2569487005  3624739744   419316267   0   0   0    0\n",
       "1       19274334  3191875643   179712055  1968545380   0   1   0    0\n",
       "2       19274353  2634604934  1607619193  1405802835   0   0   0    0\n",
       "3       19274358  2569487005    10212495  2299319102   0   0   0    0\n",
       "4       19274367  2569487005   580883881  1306075469   0   0   0    0\n",
       "...          ...         ...         ...         ...  ..  ..  ..  ...\n",
       "31423   19360259  2569487005  3624739744   773194559   0   0   0    0\n",
       "31424   19360260  2569487005  3624739744  4038791635   0   0   0    0\n",
       "31425   19360392   497926344  2304197778  1169636883   0   0   0    0\n",
       "31426   19360528  2569487005  3624739744   357042422   0   0   0    0\n",
       "31427   19360545  2569487005  3624739744  2237502949   0   0   0    0\n",
       "\n",
       "[31428 rows x 8 columns]"
      ]
     },
     "execution_count": 8,
     "metadata": {},
     "output_type": "execute_result"
    }
   ],
   "source": [
    "X=X[[\"visitTime\",'C1',\"C6\",\"C10\",'N6', 'N8', 'N9', 'N10']]\n",
    "X_pred=X_pred[[\"visitTime\",'C1',\"C6\",\"C10\",'N6', 'N8', 'N9', 'N10']]\n",
    "X"
   ]
  },
  {
   "cell_type": "markdown",
   "metadata": {},
   "source": [
    "# Undersampling and Oversampling"
   ]
  },
  {
   "cell_type": "code",
   "execution_count": 9,
   "metadata": {},
   "outputs": [
    {
     "name": "stderr",
     "output_type": "stream",
     "text": [
      "Using TensorFlow backend.\n"
     ]
    },
    {
     "name": "stdout",
     "output_type": "stream",
     "text": [
      "Resampled dataset shape Counter({-1: 10000, 1: 500})\n"
     ]
    }
   ],
   "source": [
    "from imblearn.over_sampling import  SMOTENC\n",
    "from imblearn.under_sampling import RandomUnderSampler\n",
    "from collections import Counter\n",
    "\n",
    "rus = RandomUnderSampler(sampling_strategy={-1: 10000 }, random_state=0)\n",
    "X_rus, y_rus = rus.fit_sample(X, y)\n",
    "smo = SMOTENC(sampling_strategy={1: 500 },categorical_features=[1,2,3],random_state=42)\n",
    "X_res, y_res = smo.fit_sample(X_rus, y_rus)\n",
    "\n",
    "# fix the oversampling and undersampling problem of  train module , fix the sample distrubution in the same time.\n",
    "print('Resampled dataset shape %s' % Counter(y_res))"
   ]
  },
  {
   "cell_type": "markdown",
   "metadata": {},
   "source": [
    "# Standarlize & Modeling"
   ]
  },
  {
   "cell_type": "code",
   "execution_count": 10,
   "metadata": {},
   "outputs": [],
   "source": [
    "scaler = StandardScaler()\n",
    "X_pred=scaler.fit_transform(X_pred)\n",
    "X_res_scaled=scaler.fit_transform(X_res)\n",
    "X_fit=scaler.fit_transform(X)"
   ]
  },
  {
   "cell_type": "code",
   "execution_count": 11,
   "metadata": {},
   "outputs": [],
   "source": [
    "from sklearn.linear_model import LogisticRegression\n",
    "logreg = LogisticRegression()"
   ]
  },
  {
   "cell_type": "code",
   "execution_count": 12,
   "metadata": {},
   "outputs": [
    {
     "data": {
      "text/plain": [
       "0.744"
      ]
     },
     "execution_count": 12,
     "metadata": {},
     "output_type": "execute_result"
    }
   ],
   "source": [
    "result = cross_val_score(logreg, X_res_scaled, y_res, cv=10, scoring='recall')\n",
    "np.mean(result)"
   ]
  },
  {
   "cell_type": "code",
   "execution_count": 13,
   "metadata": {},
   "outputs": [],
   "source": [
    "from sklearn.metrics import accuracy_score, confusion_matrix, classification_report\n",
    "X_train,X_test,y_train,y_test = train_test_split(X_res_scaled, y_res,stratify=y_res, test_size = 0.3 , random_state = 42)\n",
    "model=logreg.fit(X_train,y_train)"
   ]
  },
  {
   "cell_type": "code",
   "execution_count": 14,
   "metadata": {},
   "outputs": [
    {
     "data": {
      "text/plain": [
       "0.9831746031746031"
      ]
     },
     "execution_count": 14,
     "metadata": {},
     "output_type": "execute_result"
    }
   ],
   "source": [
    "model.score(X_test,y_test)"
   ]
  },
  {
   "cell_type": "markdown",
   "metadata": {},
   "source": [
    "# ROC"
   ]
  },
  {
   "cell_type": "code",
   "execution_count": 15,
   "metadata": {},
   "outputs": [],
   "source": [
    "y_score=model.decision_function(X_test)"
   ]
  },
  {
   "cell_type": "code",
   "execution_count": 17,
   "metadata": {},
   "outputs": [
    {
     "data": {
      "text/plain": [
       "<Figure size 432x288 with 0 Axes>"
      ]
     },
     "metadata": {},
     "output_type": "display_data"
    },
    {
     "data": {
      "image/png": "[encoded data removed]",
      "text/plain": [
       "<Figure size 720x720 with 1 Axes>"
      ]
     },
     "metadata": {
      "needs_background": "light"
     },
     "output_type": "display_data"
    }
   ],
   "source": [
    "import matplotlib.pyplot as plt\n",
    "from sklearn.metrics import roc_curve, auc \n",
    "# Compute ROC curve and ROC area for each class\n",
    "fpr,tpr,threshold = roc_curve(y_test, y_score) ###caculate false positive and true positive\n",
    "roc_auc = auc(fpr,tpr) ###caculate auc\n",
    " \n",
    "plt.figure()\n",
    "lw = 2\n",
    "plt.figure(figsize=(10,10))\n",
    "plt.plot(fpr, tpr, color='darkorange',\n",
    "         lw=lw, label='ROC curve (area = %0.2f)' % roc_auc) ###\n",
    "plt.plot([0, 1], [0, 1], color='navy', lw=lw, linestyle='--')\n",
    "plt.xlim([0.0, 1.0])\n",
    "plt.ylim([0.0, 1.05])\n",
    "plt.xlabel('False Positive Rate')\n",
    "plt.ylabel('True Positive Rate')\n",
    "plt.title('Receiver operating characteristic example')\n",
    "plt.legend(loc=\"lower right\")\n",
    "plt.show()"
   ]
  },
  {
   "cell_type": "markdown",
   "metadata": {},
   "source": [
    "# Fit Test (Overfitted?)"
   ]
  },
  {
   "cell_type": "code",
   "execution_count": 18,
   "metadata": {},
   "outputs": [
    {
     "name": "stdout",
     "output_type": "stream",
     "text": [
      "              precision    recall  f1-score   support\n",
      "\n",
      "          -1       1.00      1.00      1.00     31371\n",
      "           1       0.24      0.82      0.38        57\n",
      "\n",
      "    accuracy                           1.00     31428\n",
      "   macro avg       0.62      0.91      0.69     31428\n",
      "weighted avg       1.00      1.00      1.00     31428\n",
      "\n"
     ]
    }
   ],
   "source": [
    "Y_fit = model.predict(X_fit)\n",
    "print(classification_report(y,Y_fit))"
   ]
  },
  {
   "cell_type": "markdown",
   "metadata": {},
   "source": [
    "# Apply model and store result"
   ]
  },
  {
   "cell_type": "code",
   "execution_count": 19,
   "metadata": {},
   "outputs": [
    {
     "data": {
      "text/html": [
       "<div>\n",
       "<style scoped>\n",
       "    .dataframe tbody tr th:only-of-type {\n",
       "        vertical-align: middle;\n",
       "    }\n",
       "\n",
       "    .dataframe tbody tr th {\n",
       "        vertical-align: top;\n",
       "    }\n",
       "\n",
       "    .dataframe thead th {\n",
       "        text-align: right;\n",
       "    }\n",
       "</style>\n",
       "<table border=\"1\" class=\"dataframe\">\n",
       "  <thead>\n",
       "    <tr style=\"text-align: right;\">\n",
       "      <th></th>\n",
       "      <th>0</th>\n",
       "      <th>1</th>\n",
       "    </tr>\n",
       "  </thead>\n",
       "  <tbody>\n",
       "    <tr>\n",
       "      <td>0</td>\n",
       "      <td>0.972745</td>\n",
       "      <td>0.027255</td>\n",
       "    </tr>\n",
       "    <tr>\n",
       "      <td>1</td>\n",
       "      <td>0.958371</td>\n",
       "      <td>0.041629</td>\n",
       "    </tr>\n",
       "    <tr>\n",
       "      <td>2</td>\n",
       "      <td>0.976319</td>\n",
       "      <td>0.023681</td>\n",
       "    </tr>\n",
       "    <tr>\n",
       "      <td>3</td>\n",
       "      <td>0.938507</td>\n",
       "      <td>0.061493</td>\n",
       "    </tr>\n",
       "    <tr>\n",
       "      <td>4</td>\n",
       "      <td>0.978269</td>\n",
       "      <td>0.021731</td>\n",
       "    </tr>\n",
       "    <tr>\n",
       "      <td>...</td>\n",
       "      <td>...</td>\n",
       "      <td>...</td>\n",
       "    </tr>\n",
       "    <tr>\n",
       "      <td>32081</td>\n",
       "      <td>0.991706</td>\n",
       "      <td>0.008294</td>\n",
       "    </tr>\n",
       "    <tr>\n",
       "      <td>32082</td>\n",
       "      <td>0.988147</td>\n",
       "      <td>0.011853</td>\n",
       "    </tr>\n",
       "    <tr>\n",
       "      <td>32083</td>\n",
       "      <td>0.986125</td>\n",
       "      <td>0.013875</td>\n",
       "    </tr>\n",
       "    <tr>\n",
       "      <td>32084</td>\n",
       "      <td>0.989658</td>\n",
       "      <td>0.010342</td>\n",
       "    </tr>\n",
       "    <tr>\n",
       "      <td>32085</td>\n",
       "      <td>0.990719</td>\n",
       "      <td>0.009281</td>\n",
       "    </tr>\n",
       "  </tbody>\n",
       "</table>\n",
       "<p>32086 rows × 2 columns</p>\n",
       "</div>"
      ],
      "text/plain": [
       "              0         1\n",
       "0      0.972745  0.027255\n",
       "1      0.958371  0.041629\n",
       "2      0.976319  0.023681\n",
       "3      0.938507  0.061493\n",
       "4      0.978269  0.021731\n",
       "...         ...       ...\n",
       "32081  0.991706  0.008294\n",
       "32082  0.988147  0.011853\n",
       "32083  0.986125  0.013875\n",
       "32084  0.989658  0.010342\n",
       "32085  0.990719  0.009281\n",
       "\n",
       "[32086 rows x 2 columns]"
      ]
     },
     "execution_count": 19,
     "metadata": {},
     "output_type": "execute_result"
    }
   ],
   "source": [
    "prediction1= model.predict_proba(X_pred)\n",
    "prediction1=pd.DataFrame(prediction1)\n",
    "prediction1"
   ]
  },
  {
   "cell_type": "code",
   "execution_count": 20,
   "metadata": {},
   "outputs": [],
   "source": [
    "prediction = pd.DataFrame()\n",
    "prediction[\"ID\"]=np.arange(2,32088)\n",
    "prediction.shape\n",
    "model.predict(X_pred)\n",
    "prediction[\"Prob\"] = prediction1[1]\n",
    "prediction.to_csv(\"test_prob.csv\",index=False,sep=',')"
   ]
  },
  {
   "cell_type": "code",
   "execution_count": 21,
   "metadata": {},
   "outputs": [
    {
     "name": "stdout",
     "output_type": "stream",
     "text": [
      "Result dataset shape Counter({-1: 31927, 1: 159})\n"
     ]
    }
   ],
   "source": [
    "resu=model.predict(X_pred)\n",
    "print('Result dataset shape %s' % Counter(resu))"
   ]
  },
  {
   "cell_type": "code",
   "execution_count": null,
   "metadata": {},
   "outputs": [],
   "source": []
  }
 ],
 "metadata": {
  "kernelspec": {
   "display_name": "Python 3",
   "language": "python",
   "name": "python3"
  },
  "language_info": {
   "codemirror_mode": {
    "name": "ipython",
    "version": 3
   },
   "file_extension": ".py",
   "mimetype": "text/x-python",
   "name": "python",
   "nbconvert_exporter": "python",
   "pygments_lexer": "ipython3",
   "version": "3.7.4"
  }
 },
 "nbformat": 4,
 "nbformat_minor": 2
}
